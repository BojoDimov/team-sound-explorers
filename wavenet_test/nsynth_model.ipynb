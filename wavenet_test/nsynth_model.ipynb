{
 "cells": [
  {
   "cell_type": "code",
   "execution_count": 59,
   "metadata": {},
   "outputs": [],
   "source": [
    "num_stages = 10\n",
    "num_layers = 30\n",
    "filter_length = 3\n",
    "width = 512\n",
    "skip_width = 256\n",
    "ae_num_stages = 10\n",
    "ae_num_layers = 30\n",
    "ae_filter_length = 3\n",
    "ae_width = 128\n",
    "\n",
    "self.num_iters = 200000\n",
    "self.learning_rate_schedule = {\n",
    "    0: 2e-4,\n",
    "    90000: 4e-4 / 3,\n",
    "    120000: 6e-5,\n",
    "    150000: 4e-5,\n",
    "    180000: 2e-5,\n",
    "    210000: 6e-6,\n",
    "    240000: 2e-6,\n",
    "}\n",
    "self.ae_hop_length = 512\n",
    "self.ae_bottleneck_width = 16\n",
    "self.train_path = train_path"
   ]
  },
  {
   "cell_type": "code",
   "execution_count": 60,
   "metadata": {},
   "outputs": [],
   "source": [
    "4096 // 16000 // 1\n",
    "reshape to 4096 // 16000 : 2 // 2 // 1\n",
    "    "
   ]
  },
  {
   "cell_type": "code",
   "execution_count": 61,
   "metadata": {},
   "outputs": [],
   "source": [
    "import numpy as np"
   ]
  },
  {
   "cell_type": "code",
   "execution_count": 103,
   "metadata": {},
   "outputs": [],
   "source": [
    "a = np.arange(6*18)"
   ]
  },
  {
   "cell_type": "code",
   "execution_count": 104,
   "metadata": {},
   "outputs": [
    {
     "data": {
      "text/plain": [
       "array([[  0,   1,   2,   3,   4,   5,   6,   7,   8,   9,  10,  11,  12,\n",
       "         13,  14,  15,  16,  17],\n",
       "       [ 18,  19,  20,  21,  22,  23,  24,  25,  26,  27,  28,  29,  30,\n",
       "         31,  32,  33,  34,  35],\n",
       "       [ 36,  37,  38,  39,  40,  41,  42,  43,  44,  45,  46,  47,  48,\n",
       "         49,  50,  51,  52,  53],\n",
       "       [ 54,  55,  56,  57,  58,  59,  60,  61,  62,  63,  64,  65,  66,\n",
       "         67,  68,  69,  70,  71],\n",
       "       [ 72,  73,  74,  75,  76,  77,  78,  79,  80,  81,  82,  83,  84,\n",
       "         85,  86,  87,  88,  89],\n",
       "       [ 90,  91,  92,  93,  94,  95,  96,  97,  98,  99, 100, 101, 102,\n",
       "        103, 104, 105, 106, 107]])"
      ]
     },
     "execution_count": 104,
     "metadata": {},
     "output_type": "execute_result"
    }
   ],
   "source": [
    "b = a.reshape((6,18))\n",
    "c = b\n",
    "b"
   ]
  },
  {
   "cell_type": "code",
   "execution_count": 106,
   "metadata": {},
   "outputs": [
    {
     "data": {
      "text/plain": [
       "array([[[  0,   1,   2,   3,   4,   5,   6,   7,   8,   9,  10,  11,\n",
       "          12,  13,  14,  15,  16,  17],\n",
       "        [ 18,  19,  20,  21,  22,  23,  24,  25,  26,  27,  28,  29,\n",
       "          30,  31,  32,  33,  34,  35],\n",
       "        [ 36,  37,  38,  39,  40,  41,  42,  43,  44,  45,  46,  47,\n",
       "          48,  49,  50,  51,  52,  53]],\n",
       "\n",
       "       [[ 54,  55,  56,  57,  58,  59,  60,  61,  62,  63,  64,  65,\n",
       "          66,  67,  68,  69,  70,  71],\n",
       "        [ 72,  73,  74,  75,  76,  77,  78,  79,  80,  81,  82,  83,\n",
       "          84,  85,  86,  87,  88,  89],\n",
       "        [ 90,  91,  92,  93,  94,  95,  96,  97,  98,  99, 100, 101,\n",
       "         102, 103, 104, 105, 106, 107]]])"
      ]
     },
     "execution_count": 106,
     "metadata": {},
     "output_type": "execute_result"
    }
   ],
   "source": [
    "b.reshape([6//3, 3, 18])"
   ]
  },
  {
   "cell_type": "code",
   "execution_count": 111,
   "metadata": {},
   "outputs": [
    {
     "name": "stdout",
     "output_type": "stream",
     "text": [
      "[[[  0   1   2]\n",
      "  [  3   4   5]\n",
      "  [  6   7   8]\n",
      "  [  9  10  11]\n",
      "  [ 12  13  14]\n",
      "  [ 15  16  17]]\n",
      "\n",
      " [[ 18  19  20]\n",
      "  [ 21  22  23]\n",
      "  [ 24  25  26]\n",
      "  [ 27  28  29]\n",
      "  [ 30  31  32]\n",
      "  [ 33  34  35]]\n",
      "\n",
      " [[ 36  37  38]\n",
      "  [ 39  40  41]\n",
      "  [ 42  43  44]\n",
      "  [ 45  46  47]\n",
      "  [ 48  49  50]\n",
      "  [ 51  52  53]]\n",
      "\n",
      " [[ 54  55  56]\n",
      "  [ 57  58  59]\n",
      "  [ 60  61  62]\n",
      "  [ 63  64  65]\n",
      "  [ 66  67  68]\n",
      "  [ 69  70  71]]\n",
      "\n",
      " [[ 72  73  74]\n",
      "  [ 75  76  77]\n",
      "  [ 78  79  80]\n",
      "  [ 81  82  83]\n",
      "  [ 84  85  86]\n",
      "  [ 87  88  89]]\n",
      "\n",
      " [[ 90  91  92]\n",
      "  [ 93  94  95]\n",
      "  [ 96  97  98]\n",
      "  [ 99 100 101]\n",
      "  [102 103 104]\n",
      "  [105 106 107]]]\n",
      "[[[  0   3   6   9  12  15]\n",
      "  [  1   4   7  10  13  16]\n",
      "  [  2   5   8  11  14  17]]\n",
      "\n",
      " [[ 18  21  24  27  30  33]\n",
      "  [ 19  22  25  28  31  34]\n",
      "  [ 20  23  26  29  32  35]]\n",
      "\n",
      " [[ 36  39  42  45  48  51]\n",
      "  [ 37  40  43  46  49  52]\n",
      "  [ 38  41  44  47  50  53]]\n",
      "\n",
      " [[ 54  57  60  63  66  69]\n",
      "  [ 55  58  61  64  67  70]\n",
      "  [ 56  59  62  65  68  71]]\n",
      "\n",
      " [[ 72  75  78  81  84  87]\n",
      "  [ 73  76  79  82  85  88]\n",
      "  [ 74  77  80  83  86  89]]\n",
      "\n",
      " [[ 90  93  96  99 102 105]\n",
      "  [ 91  94  97 100 103 106]\n",
      "  [ 92  95  98 101 104 107]]]\n"
     ]
    }
   ],
   "source": [
    "d = c.reshape([6, 18//3, 3])\n",
    "print(d)\n",
    "d = np.transpose(d, [0,2,1])\n",
    "print(d)"
   ]
  },
  {
   "cell_type": "code",
   "execution_count": 112,
   "metadata": {},
   "outputs": [
    {
     "data": {
      "text/plain": [
       "array([[  0,   3,   6,   9,  12,  15],\n",
       "       [  1,   4,   7,  10,  13,  16],\n",
       "       [  2,   5,   8,  11,  14,  17],\n",
       "       [ 18,  21,  24,  27,  30,  33],\n",
       "       [ 19,  22,  25,  28,  31,  34],\n",
       "       [ 20,  23,  26,  29,  32,  35],\n",
       "       [ 36,  39,  42,  45,  48,  51],\n",
       "       [ 37,  40,  43,  46,  49,  52],\n",
       "       [ 38,  41,  44,  47,  50,  53],\n",
       "       [ 54,  57,  60,  63,  66,  69],\n",
       "       [ 55,  58,  61,  64,  67,  70],\n",
       "       [ 56,  59,  62,  65,  68,  71],\n",
       "       [ 72,  75,  78,  81,  84,  87],\n",
       "       [ 73,  76,  79,  82,  85,  88],\n",
       "       [ 74,  77,  80,  83,  86,  89],\n",
       "       [ 90,  93,  96,  99, 102, 105],\n",
       "       [ 91,  94,  97, 100, 103, 106],\n",
       "       [ 92,  95,  98, 101, 104, 107]])"
      ]
     },
     "execution_count": 112,
     "metadata": {},
     "output_type": "execute_result"
    }
   ],
   "source": [
    "e = d.reshape([6*3, 18//3])\n",
    "e"
   ]
  },
  {
   "cell_type": "code",
   "execution_count": 69,
   "metadata": {},
   "outputs": [
    {
     "name": "stdout",
     "output_type": "stream",
     "text": [
      "[array([[ 0,  0,  0,  2,  4,  6,  8, 10, 12, 14, 16, 18],\n",
      "       [ 0,  0,  1,  3,  5,  7,  9, 11, 13, 15, 17, 19],\n",
      "       [ 0,  0, 20, 22, 24, 26, 28, 30, 32, 34, 36, 38],\n",
      "       [ 0,  0, 21, 23, 25, 27, 29, 31, 33, 35, 37, 39],\n",
      "       [ 0,  0, 40, 42, 44, 46, 48, 50, 52, 54, 56, 58],\n",
      "       [ 0,  0, 41, 43, 45, 47, 49, 51, 53, 55, 57, 59],\n",
      "       [ 0,  0, 60, 62, 64, 66, 68, 70, 72, 74, 76, 78],\n",
      "       [ 0,  0, 61, 63, 65, 67, 69, 71, 73, 75, 77, 79],\n",
      "       [ 0,  0, 80, 82, 84, 86, 88, 90, 92, 94, 96, 98],\n",
      "       [ 0,  0, 81, 83, 85, 87, 89, 91, 93, 95, 97, 99]])]\n"
     ]
    }
   ],
   "source": [
    "import tensorflow as tf\n",
    "t = tf.constant(e)\n",
    "paddings = tf.constant([[0,0,], [2, 0]])\n",
    "# 'constant_values' is 0.\n",
    "# rank of 't' is 2.\n",
    "t = tf.pad(t, paddings, \"CONSTANT\")\n",
    "\n",
    "with tf.Session() as session:\n",
    "    res = session.run([t])\n",
    "    print(res)"
   ]
  },
  {
   "cell_type": "markdown",
   "metadata": {},
   "source": [
    "## conv1d"
   ]
  },
  {
   "cell_type": "markdown",
   "metadata": {},
   "source": [
    "samples(nb)?\n",
    "\n",
    "input size: \n",
    "(samples, length_song, channels) -> \n",
    "\n",
    "(samples*dilation, length_song // dilation, channels) ->\n",
    "\n",
    "(samples*dilation, filter_length - 1 + (length_song // dilation), channels) -> \n",
    "\n",
    "(samples*dilation, 1, filter_length - 1 + (length_song // dilation), channels)->\n"
   ]
  },
  {
   "cell_type": "markdown",
   "metadata": {},
   "source": [
    "kernel size (W): \n",
    "(1, filter_length, channels, num_filters)\n",
    "\n",
    "biases: (num_filters)\n",
    "\n",
    "strides = [1,1,1,1]\n",
    "\n"
   ]
  },
  {
   "cell_type": "markdown",
   "metadata": {},
   "source": [
    "result: \n",
    "(samples*dilation, 1, (length_song // dilation), channels)->\n",
    "(samples*dilation, (length_song // dilation), channels)->\n",
    "(samples, length_song, channels)->\n",
    "\n",
    "и връщаме"
   ]
  },
  {
   "cell_type": "markdown",
   "metadata": {},
   "source": [
    "## pool1d"
   ]
  },
  {
   "cell_type": "markdown",
   "metadata": {},
   "source": [
    "samplse (mb) ?\n",
    "\n",
    "input_size: (samples, length_song, channels)\n",
    "\n",
    "window_shape = [1, 1, window_length, 1]\n",
    "strides = [1, 1, stride, 1]\n",
    "\n",
    "x_4d = reshape(x, [samples, 1, length_song, channels])\n",
    "\n",
    "pooled = pool(x_4d, window_shape, strides, padding=Same)\n",
    "\n",
    "window_shape(how much we use on a single step)\n",
    "\n",
    "usually in our case window_shape equals stride\n",
    "\n",
    "return reshape(pooled, [samples, length_song// stride, num_channels]))\n"
   ]
  },
  {
   "cell_type": "markdown",
   "metadata": {},
   "source": [
    "### NN Encoder"
   ]
  },
  {
   "cell_type": "markdown",
   "metadata": {},
   "source": [
    "en = Conv_1d ((num_filters)ae_width, (filter_length)ae_filter_length)"
   ]
  },
  {
   "cell_type": "markdown",
   "metadata": {},
   "source": [
    "for num_layer in range(ae_num_layers):\n",
    "\n",
    "    dilation = 2**(num_layer % ae_num_stages)\n",
    "\n",
    "    (example:) for nun_layers = 30 and ae_num_stages = 10\n",
    "\n",
    "    dilation = 1, 2, 2^2, 2^3, ... 2^9, 1, 2 ... , 2^9, 1, 2, ..., 2^9 \n",
    "\n",
    "    d = relu(en)\n",
    "\n",
    "    d = conv1d(d, ae_width, ae_filter_length, dilation)\n",
    "\n",
    "    d = relu(d)\n",
    "\n",
    "    (this is a residual layer)\n",
    "    en+= conv1d(d, ae_width, 1(filter_length))\n",
    "\n",
    "(en before decoding)\n",
    "en = conv1d(en, ae_bottleneck_width, 1(filter_length)\n",
    "\n",
    "en = pool1d(en, ae_hop_length, avg_pooling)"
   ]
  },
  {
   "cell_type": "markdown",
   "metadata": {},
   "source": [
    "### NN Decoder"
   ]
  },
  {
   "cell_type": "markdown",
   "metadata": {},
   "source": [
    "l = shift_right(original_input)\n",
    "\n",
    "l = conv1d(l, width, filter_length)  //start convolution\n",
    "\n",
    "l = conv1d(l, skip_width, 1) // skip_start\n",
    "\n",
    "for i in range(num_layers):\n",
    "    dilation = 2 ** (i % num_stages)  //logic is same as dilation in encoder\n",
    "    \n",
    "    d = conv1d(l, 2*width, filter_length, dilation)\n",
    "    \n",
    "    condition(d, conv1d(en, 2*width, 1))\n",
    "    \n",
    "    "
   ]
  },
  {
   "cell_type": "markdown",
   "metadata": {},
   "source": [
    "#### condition"
   ]
  },
  {
   "cell_type": "markdown",
   "metadata": {},
   "source": [
    "encoding: [samples, en_length, channels] ->\n",
    "\n",
    "[samples, en_length, 1, channels]\n",
    "    \n",
    "x: [samples, length, channels] ->\n",
    "\n",
    "reshape: [samples, en_length, -1, channels]\n",
    "    \n",
    "    \n",
    "x+= encoding\n",
    "\n",
    "x: -> reshape(samples, length, channels)"
   ]
  },
  {
   "cell_type": "markdown",
   "metadata": {},
   "source": [
    "#### shift_right"
   ]
  },
  {
   "cell_type": "markdown",
   "metadata": {},
   "source": [
    "input-size: samples, song_length, channels ->\n",
    "\n",
    "(padding): samples, 1+song_length, channels->\n",
    "\n",
    "slice using input size shape: "
   ]
  },
  {
   "cell_type": "code",
   "execution_count": 90,
   "metadata": {},
   "outputs": [
    {
     "name": "stdout",
     "output_type": "stream",
     "text": [
      "[array([[0, 1, 2],\n",
      "       [0, 3, 4],\n",
      "       [0, 5, 6]])]\n"
     ]
    }
   ],
   "source": [
    "t = tf.constant([[0,1,2],[0,3,4],[0,5,6]])\n",
    "# 'constant_values' is 0.\n",
    "# rank of 't' is 2.\n",
    "t = tf.slice(t,[0,0], tf.stack([-1,3]))\n",
    "\n",
    "with tf.Session() as session:\n",
    "    res = session.run([t])\n",
    "    print(res)"
   ]
  },
  {
   "cell_type": "markdown",
   "metadata": {},
   "source": [
    "slice-> samples, [0, ...(song_length - 1)], channels"
   ]
  },
  {
   "cell_type": "code",
   "execution_count": null,
   "metadata": {},
   "outputs": [],
   "source": []
  }
 ],
 "metadata": {
  "kernelspec": {
   "display_name": "Python 3",
   "language": "python",
   "name": "python3"
  },
  "language_info": {
   "codemirror_mode": {
    "name": "ipython",
    "version": 3
   },
   "file_extension": ".py",
   "mimetype": "text/x-python",
   "name": "python",
   "nbconvert_exporter": "python",
   "pygments_lexer": "ipython3",
   "version": "3.5.5"
  }
 },
 "nbformat": 4,
 "nbformat_minor": 2
}
