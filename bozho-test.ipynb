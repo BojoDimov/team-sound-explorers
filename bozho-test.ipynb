{
 "cells": [
  {
   "cell_type": "code",
   "execution_count": 9,
   "metadata": {},
   "outputs": [],
   "source": [
    "import tensorflow as tf\n",
    "import librosa\n",
    "import utils"
   ]
  },
  {
   "cell_type": "code",
   "execution_count": 10,
   "metadata": {},
   "outputs": [
    {
     "name": "stdout",
     "output_type": "stream",
     "text": [
      "(220500,) ásdasdsadsad\n",
      "(220500,)\n"
     ]
    }
   ],
   "source": [
    "inpuit_dict = utils.get_input_dict(\"piano.mp3\")"
   ]
  },
  {
   "cell_type": "code",
   "execution_count": 17,
   "metadata": {},
   "outputs": [],
   "source": [
    "def get_input_dict(path, crop_size=64000):\n",
    "    audio, sr = librosa.load(path, duration=10)\n",
    "    print(audio.shape)\n",
    "    wav = tf.Variable(audio)\n",
    "    print(wav.get_shape())\n",
    "    crop = tf.random_crop(wav, [crop_size], name=\"croppped_wav\")\n",
    "    print(crop.get_shape())\n",
    "    return {\n",
    "        \"pitch\": tf.Variable(0, name=\"pitch\"),\n",
    "        \"key\": tf.Variable(0, name=\"key\"),\n",
    "        \"wav\": crop\n",
    "    }"
   ]
  },
  {
   "cell_type": "code",
   "execution_count": 18,
   "metadata": {},
   "outputs": [
    {
     "name": "stdout",
     "output_type": "stream",
     "text": [
      "(220500,)\n",
      "(220500,)\n",
      "(64000,)\n"
     ]
    }
   ],
   "source": [
    "input_dict = get_input_dict(\"piano.mp3\")"
   ]
  },
  {
   "cell_type": "code",
   "execution_count": 19,
   "metadata": {},
   "outputs": [
    {
     "data": {
      "text/plain": [
       "{'key': <tf.Variable 'key_5:0' shape=() dtype=int32_ref>,\n",
       " 'pitch': <tf.Variable 'pitch_5:0' shape=() dtype=int32_ref>,\n",
       " 'wav': <tf.Tensor 'croppped_wav:0' shape=(64000,) dtype=float32>}"
      ]
     },
     "execution_count": 19,
     "metadata": {},
     "output_type": "execute_result"
    }
   ],
   "source": [
    "input_dict"
   ]
  },
  {
   "cell_type": "code",
   "execution_count": null,
   "metadata": {},
   "outputs": [],
   "source": []
  }
 ],
 "metadata": {
  "kernelspec": {
   "display_name": "Python 3",
   "language": "python",
   "name": "python3"
  },
  "language_info": {
   "codemirror_mode": {
    "name": "ipython",
    "version": 3
   },
   "file_extension": ".py",
   "mimetype": "text/x-python",
   "name": "python",
   "nbconvert_exporter": "python",
   "pygments_lexer": "ipython3",
   "version": "3.6.4"
  }
 },
 "nbformat": 4,
 "nbformat_minor": 2
}
